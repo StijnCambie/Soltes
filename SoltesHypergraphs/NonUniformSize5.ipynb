{
 "cells": [
  {
   "cell_type": "code",
   "execution_count": 17,
   "metadata": {},
   "outputs": [],
   "source": [
    "#We define three functions:\n",
    "#Soltis0 checks if the vertex 0 is a Soltisvertex of H (of order n)\n",
    "#Soltes checks if H is a Soltes hypergraph\n",
    "#SoltisListCheck outputs the Soltes hypergraphs among a list of hypergraphs of the same order n \n",
    "#and finishes by writing \"done\".\n",
    "\n",
    "def Soltis0(H,n):\n",
    "    S=set()\n",
    "    for j in H:\n",
    "        for (u,v) in Combinations(j,2):\n",
    "            S.add((u,v))\n",
    "    G = Graph();\n",
    "    for (u,v) in S:\n",
    "        G.add_edge((u,v));\n",
    "    W=G.wiener_index();\n",
    "       \n",
    "    Ok=True;\n",
    "    i=0;\n",
    "    S=set();\n",
    "    for j in H:\n",
    "        if i not in j:\n",
    "            for (u,v) in Combinations(j,2):\n",
    "                S.add((u,v));\n",
    "    G = Graph();\n",
    "    for (u,v) in S:\n",
    "        G.add_edge((u,v));\n",
    "    if G.order()!=n-1:\n",
    "        Ok=False;\n",
    "    else:\n",
    "        if W!=G.wiener_index():\n",
    "            Ok=False;\n",
    "    return Ok\n",
    "\n",
    "\n",
    "\n",
    "def Soltis(H,n):\n",
    "    S=set()\n",
    "    for j in H:\n",
    "        for (u,v) in Combinations(j,2):\n",
    "            S.add((u,v))\n",
    "    G = Graph();\n",
    "    for (u,v) in S:\n",
    "        G.add_edge((u,v));\n",
    "    W=G.wiener_index();\n",
    "       \n",
    "    Ok=True;\n",
    "    for i in range(n):\n",
    "        S=set();\n",
    "        for j in H:\n",
    "            if i not in j:\n",
    "                for (u,v) in Combinations(j,2):\n",
    "                    S.add((u,v));\n",
    "        G = Graph();\n",
    "        for (u,v) in S:\n",
    "            G.add_edge((u,v));\n",
    "        if G.order()!=n-1:\n",
    "            Ok=False;\n",
    "            break\n",
    "        else:\n",
    "            if W!=G.wiener_index():\n",
    "                Ok=False;\n",
    "                break\n",
    "    return Ok\n",
    "\n",
    "#to check a list of hypergraphs efficiently, we first check the Soltes property for vertex 0 and then for the remaining ones.\n",
    "\n",
    "def SoltisListCheck(li,n):\n",
    "    hyperok=[]\n",
    "    for H in li:\n",
    "        if Soltis0(H,n):\n",
    "            hyperok.append(H)\n",
    "    for H in hyperok:\n",
    "        if Soltis(H,n):\n",
    "            print(H)\n",
    "    print(\"done\")"
   ]
  },
  {
   "cell_type": "code",
   "execution_count": 18,
   "metadata": {},
   "outputs": [
    {
     "name": "stdout",
     "output_type": "stream",
     "text": [
      "1402\n",
      "done\n"
     ]
    }
   ],
   "source": [
    "#Check that no Soltes hypergraphs exists with order 6,7 or 8 resp.\n",
    "n=6;\n",
    "L6=list(hypergraphs.nauty(number_of_sets=5,number_of_vertices=n,multiple_sets=False, vertex_min_degree=2, vertex_max_degree=3, connected=True))\n",
    "print(len(L6))\n",
    "SoltisListCheck(L6,6)"
   ]
  },
  {
   "cell_type": "code",
   "execution_count": 19,
   "metadata": {},
   "outputs": [
    {
     "name": "stdout",
     "output_type": "stream",
     "text": [
      "5459\n",
      "done\n"
     ]
    }
   ],
   "source": [
    "n=7;\n",
    "L7=list(hypergraphs.nauty(number_of_sets=5,number_of_vertices=n,multiple_sets=False, vertex_min_degree=2, vertex_max_degree=3, connected=True))\n",
    "print(len(L7))\n",
    "SoltisListCheck(L7,7)"
   ]
  },
  {
   "cell_type": "code",
   "execution_count": 20,
   "metadata": {},
   "outputs": [
    {
     "name": "stdout",
     "output_type": "stream",
     "text": [
      "18788\n",
      "done\n"
     ]
    }
   ],
   "source": [
    "n=8;\n",
    "L8=list(hypergraphs.nauty(number_of_sets=5,number_of_vertices=n,multiple_sets=False, vertex_min_degree=2, vertex_max_degree=3, connected=True))\n",
    "print(len(L8))\n",
    "SoltisListCheck(L8,8)"
   ]
  },
  {
   "cell_type": "code",
   "execution_count": 21,
   "metadata": {},
   "outputs": [
    {
     "data": {
      "text/plain": [
       "False"
      ]
     },
     "execution_count": 21,
     "metadata": {},
     "output_type": "execute_result"
    }
   ],
   "source": [
    "#Finally, check the 4 possible hypergraphs of order 9 and 10 (dual of \\binom{[5]}2 and \\binom{[5]}3, and same with one set removed) )\n",
    "Soltis(((0, 1, 2, 3), (0, 4,5,6 ), (1,4,7,8), (2,5,7),(3,6,8)),9)"
   ]
  },
  {
   "cell_type": "code",
   "execution_count": 22,
   "metadata": {},
   "outputs": [
    {
     "data": {
      "text/plain": [
       "False"
      ]
     },
     "execution_count": 22,
     "metadata": {},
     "output_type": "execute_result"
    }
   ],
   "source": [
    "Soltis(((0, 1, 2, 3), (0, 4,5,6 ), (1,4,7,8), (2,5,7,9),(3,6,8,9)),10)"
   ]
  },
  {
   "cell_type": "code",
   "execution_count": 23,
   "metadata": {},
   "outputs": [
    {
     "data": {
      "text/plain": [
       "False"
      ]
     },
     "execution_count": 23,
     "metadata": {},
     "output_type": "execute_result"
    }
   ],
   "source": [
    "Soltis(((0, 1, 2, 3, 4, 5), (0, 1, 2, 6, 7, 8), (0, 3, 4, 6, 7), (1, 3, 5, 6, 8), (2, 4, 5, 7, 8)),9)"
   ]
  },
  {
   "cell_type": "code",
   "execution_count": 24,
   "metadata": {},
   "outputs": [
    {
     "data": {
      "text/plain": [
       "True"
      ]
     },
     "execution_count": 24,
     "metadata": {},
     "output_type": "execute_result"
    }
   ],
   "source": [
    "Soltis(((0, 1, 2, 3, 4, 5), (0, 1, 2, 6, 7, 8), (0, 3, 4, 6, 7, 9), (1, 3, 5, 6, 8, 9), (2, 4, 5, 7, 8, 9)),10)"
   ]
  },
  {
   "cell_type": "code",
   "execution_count": null,
   "metadata": {},
   "outputs": [],
   "source": []
  }
 ],
 "metadata": {
  "kernelspec": {
   "display_name": "SageMath 9.3",
   "language": "sage",
   "name": "sagemath"
  },
  "language_info": {
   "codemirror_mode": {
    "name": "ipython",
    "version": 3
   },
   "file_extension": ".py",
   "mimetype": "text/x-python",
   "name": "python",
   "nbconvert_exporter": "python",
   "pygments_lexer": "ipython3",
   "version": "3.7.10"
  }
 },
 "nbformat": 4,
 "nbformat_minor": 4
}
