{
 "cells": [
  {
   "cell_type": "code",
   "execution_count": 9,
   "metadata": {},
   "outputs": [
    {
     "data": {
      "text/plain": [
       "Digraph on 3306 vertices (use the .plot() method to plot)"
      ]
     },
     "execution_count": 9,
     "metadata": {},
     "output_type": "execute_result"
    }
   ],
   "source": [
    "P=Primes();\n",
    "\n",
    "n=3306\n",
    "S={ 2, 4,  6, 8, 10, 9, 12, 13, 14, 15, 22, 23}\n",
    "S2={ 2, 4,  6, 8, 10, 7, 12, 13, 14, 15, 22, 23}\n",
    "S3={ 2, 4,  6, 8, 10, 11, 12, 13, 14, 15, 22, 23}\n",
    "\n",
    "g=DiGraph();\n",
    "for j in range(0,n,3):\n",
    "    for k in S:\n",
    "        g.add_edge(((j+k)%n,j));\n",
    "    g.add_edge((j,(j+1)%n));\n",
    "for j in range(1,n,3):\n",
    "    if j not in P[0:10]:\n",
    "        for k in S2:\n",
    "            g.add_edge(((j+k)%n,j));\n",
    "        g.add_edge((j,(j+1)%n));\n",
    "    else:\n",
    "        for k in S:\n",
    "            g.add_edge(((j+k)%n,j));\n",
    "        g.add_edge((j,(j+1)%n));\n",
    "for j in range(2,n,3):\n",
    "    for k in S3:\n",
    "        g.add_edge(((j+k)%n,j));\n",
    "    g.add_edge((j,(j+1)%n));\n",
    "g"
   ]
  },
  {
   "cell_type": "code",
   "execution_count": 10,
   "metadata": {},
   "outputs": [
    {
     "data": {
      "text/plain": [
       "3306"
      ]
     },
     "execution_count": 10,
     "metadata": {},
     "output_type": "execute_result"
    }
   ],
   "source": [
    "orbits = g.automorphism_group(orbits=True)[1]\n",
    "len(orbits)"
   ]
  },
  {
   "cell_type": "code",
   "execution_count": 16,
   "metadata": {},
   "outputs": [
    {
     "name": "stdout",
     "output_type": "stream",
     "text": [
      "finished\n"
     ]
    }
   ],
   "source": [
    "for i in range(1,100):\n",
    "    hh=g.copy()\n",
    "    hh.delete_vertex(1)\n",
    "    dif=g.wiener_index()-hh.wiener_index()\n",
    "    if dif!=0:\n",
    "        print(i)\n",
    "print(\"finished\")"
   ]
  },
  {
   "cell_type": "code",
   "execution_count": 17,
   "metadata": {},
   "outputs": [
    {
     "name": "stdout",
     "output_type": "stream",
     "text": [
      "finished\n"
     ]
    }
   ],
   "source": [
    "for i in range(3000,n):\n",
    "    hh=g.copy()\n",
    "    hh.delete_vertex(1)\n",
    "    dif=g.wiener_index()-hh.wiener_index()\n",
    "    if dif!=0:\n",
    "        print(i)\n",
    "print(\"finished\")"
   ]
  },
  {
   "cell_type": "code",
   "execution_count": 18,
   "metadata": {},
   "outputs": [
    {
     "name": "stdout",
     "output_type": "stream",
     "text": [
      "finished\n"
     ]
    }
   ],
   "source": [
    "for i in range(100,3000):\n",
    "    hh=g.copy()\n",
    "    hh.delete_vertex(1)\n",
    "    dif=g.wiener_index()-hh.wiener_index()\n",
    "    if dif!=0:\n",
    "        print(i)\n",
    "print(\"finished\")"
   ]
  },
  {
   "cell_type": "code",
   "execution_count": 32,
   "metadata": {},
   "outputs": [
    {
     "name": "stdout",
     "output_type": "stream",
     "text": [
      "12\n",
      "14\n"
     ]
    }
   ],
   "source": [
    "dsi=g.out_degree_sequence()\n",
    "print(min(dsi))\n",
    "print(max(dsi))"
   ]
  },
  {
   "cell_type": "code",
   "execution_count": null,
   "metadata": {},
   "outputs": [],
   "source": []
  },
  {
   "cell_type": "code",
   "execution_count": null,
   "metadata": {},
   "outputs": [],
   "source": []
  },
  {
   "cell_type": "code",
   "execution_count": null,
   "metadata": {},
   "outputs": [],
   "source": []
  },
  {
   "cell_type": "code",
   "execution_count": null,
   "metadata": {},
   "outputs": [],
   "source": []
  },
  {
   "cell_type": "code",
   "execution_count": null,
   "metadata": {},
   "outputs": [],
   "source": []
  }
 ],
 "metadata": {
  "kernelspec": {
   "display_name": "SageMath 9.3",
   "language": "sage",
   "name": "sagemath"
  },
  "language_info": {
   "codemirror_mode": {
    "name": "ipython",
    "version": 3
   },
   "file_extension": ".py",
   "mimetype": "text/x-python",
   "name": "python",
   "nbconvert_exporter": "python",
   "pygments_lexer": "ipython3",
   "version": "3.7.10"
  }
 },
 "nbformat": 4,
 "nbformat_minor": 4
}
