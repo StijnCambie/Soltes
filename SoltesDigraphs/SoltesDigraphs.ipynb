{
 "cells": [
  {
   "cell_type": "code",
   "execution_count": 3,
   "metadata": {},
   "outputs": [
    {
     "name": "stdout",
     "output_type": "stream",
     "text": [
      "0\n",
      "0\n",
      "0\n",
      "0\n",
      "0\n",
      "0\n",
      "0\n",
      "0\n",
      "0\n",
      "0\n",
      "0\n",
      "0\n",
      "0\n",
      "0\n",
      "0\n",
      "0\n",
      "0\n",
      "0\n",
      "0\n",
      "0\n",
      "0\n",
      "0\n",
      "0\n",
      "0\n",
      "0\n",
      "0\n",
      "0\n",
      "0\n",
      "0\n",
      "0\n",
      "0\n"
     ]
    }
   ],
   "source": [
    "#In this file, we define a function D(n,S) that given input a positive integer n and a subset S of [1,n] \n",
    "#outputs a directed difference graph (which is vertex-transitive)\n",
    "\n",
    "def D(n,S):\n",
    "    g=DiGraph();\n",
    "    for j in range(0,n):\n",
    "        for k in S:\n",
    "            g.add_edge(((j+k)%n,j));\n",
    "        g.add_edge((j,(j+1)%n));\n",
    "    return g\n",
    "\n",
    "#Next, we give some examples of Soltes digraphs of this form, and output W(D)-W(D\\v) for a fixed vertex\n",
    "#For the final one, the input is also checked\n",
    "\n",
    "\n",
    "for (n,S) in [(11,{1}),(85, {4}),(117, {5}),\n",
    "    (181, {1, 2, 3, 4, 5}),(251, {4, 6}),(334, {1, 3, 4, 7}),(657,{3,8,10}),\n",
    "    (1258, {1, 7, 9, 12, 13, 14}),\n",
    "    (1258, {1, 9, 10, 12, 13, 14}),\n",
    "    (1258, {1, 2, 6, 8, 12, 13, 14}),\n",
    "    (1258, {1, 2, 6, 11, 12, 13, 14}),\n",
    "    (1258, {1, 2, 7, 11, 12, 13, 14}),\n",
    "    (1258, {1, 3, 4, 9, 12, 13, 14}),\n",
    "    (1258, {1, 4, 5, 9, 12, 13, 14}),\n",
    "    (1258, {1, 4, 6, 7, 12, 13, 14}),\n",
    "    (1258, {1, 4, 7, 8, 12, 13, 14}),\n",
    "    (1258, {1, 4, 8, 9, 12, 13, 14}),\n",
    "    (1258, {1, 4, 9, 10, 12, 13, 14}),\n",
    "    (1258, {1, 5, 7, 10, 12, 13, 14}),\n",
    "    (1258, {1, 5, 9, 11, 12, 13, 14}),\n",
    "    (1258, {1, 6, 7, 11, 12, 13, 14}),\n",
    "    (1258, {1, 7, 9, 11, 12, 13, 14}),\n",
    "    (1258, {1, 7, 10, 11, 12, 13, 14}),\n",
    "    (1258, {1, 2, 3, 4, 11, 12, 13, 14}),\n",
    "    (1258, {1, 2, 3, 5, 6, 12, 13, 14}),\n",
    "    (1258, {1, 2, 4, 9, 11, 12, 13, 14}),\n",
    "    (1258, {1, 2, 9, 10, 11, 12, 13, 14}),\n",
    "    (5571, {2, 3, 4, 5, 6, 25, 26, 27, 28, 29, 30, 24, 23}),\n",
    "    (6326, {1, 2, 3, 4, 5, 6, 7, 8, 9, 10, 11, 12, 13, 14, 15, 18, 30, 31, 32}),\n",
    "    (6326, {1, 2, 3, 4, 5, 6, 7, 8, 9, 10, 11, 12, 13, 14, 15, 16, 17, 20, 31, 32}),\n",
    "    (7129,{2, 3, 4, 5, 6, 7, 22, 23, 24, 25, 26, 27, 28, 29, 30, 31, 32, 33, 34})]:\n",
    "    h=D(n,S);\n",
    "    \n",
    "    hh=h.copy()\n",
    "    hh.delete_vertex(1)\n",
    "    dif=h.wiener_index()-hh.wiener_index()\n",
    "    print(dif)\n",
    " "
   ]
  },
  {
   "cell_type": "code",
   "execution_count": 4,
   "metadata": {},
   "outputs": [
    {
     "data": {
      "text/plain": [
       "142580"
      ]
     },
     "execution_count": 4,
     "metadata": {},
     "output_type": "execute_result"
    }
   ],
   "source": [
    "h.size()"
   ]
  },
  {
   "cell_type": "code",
   "execution_count": 5,
   "metadata": {},
   "outputs": [
    {
     "data": {
      "text/plain": [
       "142540"
      ]
     },
     "execution_count": 5,
     "metadata": {},
     "output_type": "execute_result"
    }
   ],
   "source": [
    "hh.size()"
   ]
  },
  {
   "cell_type": "code",
   "execution_count": 6,
   "metadata": {},
   "outputs": [
    {
     "data": {
      "text/plain": [
       "7128"
      ]
     },
     "execution_count": 6,
     "metadata": {},
     "output_type": "execute_result"
    }
   ],
   "source": [
    "hh.order()"
   ]
  },
  {
   "cell_type": "code",
   "execution_count": 7,
   "metadata": {},
   "outputs": [
    {
     "data": {
      "text/plain": [
       "5200070825"
      ]
     },
     "execution_count": 7,
     "metadata": {},
     "output_type": "execute_result"
    }
   ],
   "source": [
    "h.wiener_index()"
   ]
  },
  {
   "cell_type": "code",
   "execution_count": 8,
   "metadata": {},
   "outputs": [
    {
     "data": {
      "text/plain": [
       "5200070825"
      ]
     },
     "execution_count": 8,
     "metadata": {},
     "output_type": "execute_result"
    }
   ],
   "source": [
    "hh.wiener_index()"
   ]
  },
  {
   "cell_type": "code",
   "execution_count": 9,
   "metadata": {},
   "outputs": [
    {
     "data": {
      "text/plain": [
       "True"
      ]
     },
     "execution_count": 9,
     "metadata": {},
     "output_type": "execute_result"
    }
   ],
   "source": [
    "h.is_vertex_transitive()"
   ]
  },
  {
   "cell_type": "code",
   "execution_count": null,
   "metadata": {},
   "outputs": [],
   "source": []
  }
 ],
 "metadata": {
  "kernelspec": {
   "display_name": "SageMath 9.3",
   "language": "sage",
   "name": "sagemath"
  },
  "language_info": {
   "codemirror_mode": {
    "name": "ipython",
    "version": 3
   },
   "file_extension": ".py",
   "mimetype": "text/x-python",
   "name": "python",
   "nbconvert_exporter": "python",
   "pygments_lexer": "ipython3",
   "version": "3.7.10"
  }
 },
 "nbformat": 4,
 "nbformat_minor": 4
}
