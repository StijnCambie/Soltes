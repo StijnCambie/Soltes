{
 "cells": [
  {
   "cell_type": "code",
   "execution_count": 32,
   "metadata": {},
   "outputs": [
    {
     "name": "stdout",
     "output_type": "stream",
     "text": [
      "9760\n",
      "9612\n",
      "9612\n"
     ]
    }
   ],
   "source": [
    "#In this document, we present two non-vertex-transitive graphs for which removing any vertex results in the same total distance\n",
    "#first, we consider a graph on 80 vertices\n",
    "\n",
    "s=\"~?@Os_?????????????????????????????????????????????????????????????????????????????????F????????HO????s?CW????F??????H_????BG??????i?????I_???_?@@??@??CC????COG????@CG???C@?C????_O@?????OC@?????_C@?????OAC?????G?c?????OA?A????A?_?_????C_?G?????G_?G??????H?A??????GOA??????G?g???????_A_?????e????????@?GC??????@?CG???????G?OG??????A?AC???????_@@???????A?GG???????AI?????????CS????????@?????w?????O?????e????A?????J?????C??????K??_?G????????E?OG????????W?_@???????D?G??_??????A_C??A??????C_?C??O??????K??_??O?????G?G?G??_?????C?C?O??\"\n",
    "g=Graph(s)\n",
    "print(g.wiener_index())\n",
    "for x in g.automorphism_group(return_group=False, orbits=True, algorithm='sage'):\n",
    "    h=g.copy()\n",
    "    h.delete_vertex(x[0])\n",
    "    print(h.wiener_index())"
   ]
  },
  {
   "cell_type": "code",
   "execution_count": 33,
   "metadata": {},
   "outputs": [
    {
     "name": "stdout",
     "output_type": "stream",
     "text": [
      "325120\n",
      "325080\n",
      "325080\n"
     ]
    }
   ],
   "source": [
    "#next, we check the same for its arc-graph, which will be defined in two ways\n",
    "#first as the line graph of the subdivision\n",
    "g1=g.copy()\n",
    "g.subdivide_edges(g.edges(labels=False),1);\n",
    "g=g.line_graph();\n",
    "print(g.wiener_index())\n",
    "for x in g.automorphism_group(return_group=False, orbits=True, algorithm='sage'):\n",
    "    h=g.copy()\n",
    "    h.delete_vertex(x[0])\n",
    "    print(h.wiener_index())"
   ]
  },
  {
   "cell_type": "code",
   "execution_count": 35,
   "metadata": {},
   "outputs": [],
   "source": [
    "#next, using its definition using arcs\n",
    "def ArcG(g):\n",
    "    S=set();\n",
    "    E2=set();\n",
    "    n=g.order();\n",
    "    E=g.edges(labels=False);\n",
    "    for (i,j) in E:\n",
    "        S.add((i,j));\n",
    "        S.add((j,i));\n",
    "        E2.add(((i,j),(j,i)));\n",
    "    for (a,b) in Combinations(S,2):\n",
    "        if a[0]==b[0]:\n",
    "            E2.add((a,b))\n",
    "    \n",
    "    h = Graph()\n",
    "    h.add_vertices(S)\n",
    "    h.add_edges(E2)   \n",
    "    return(h) "
   ]
  },
  {
   "cell_type": "code",
   "execution_count": 36,
   "metadata": {},
   "outputs": [
    {
     "name": "stdout",
     "output_type": "stream",
     "text": [
      "325120\n",
      "325080\n",
      "325080\n"
     ]
    }
   ],
   "source": [
    "g=ArcG(g1);\n",
    "print(g.wiener_index())\n",
    "for x in g.automorphism_group(return_group=False, orbits=True, algorithm='sage'):\n",
    "    h=g.copy()\n",
    "    h.delete_vertex(x[0])\n",
    "    print(h.wiener_index())"
   ]
  },
  {
   "cell_type": "code",
   "execution_count": 13,
   "metadata": {},
   "outputs": [],
   "source": []
  },
  {
   "cell_type": "code",
   "execution_count": null,
   "metadata": {},
   "outputs": [],
   "source": []
  },
  {
   "cell_type": "code",
   "execution_count": null,
   "metadata": {},
   "outputs": [],
   "source": []
  },
  {
   "cell_type": "code",
   "execution_count": null,
   "metadata": {},
   "outputs": [],
   "source": []
  },
  {
   "cell_type": "code",
   "execution_count": null,
   "metadata": {},
   "outputs": [],
   "source": []
  },
  {
   "cell_type": "code",
   "execution_count": null,
   "metadata": {},
   "outputs": [],
   "source": []
  }
 ],
 "metadata": {
  "kernelspec": {
   "display_name": "SageMath 9.3",
   "language": "sage",
   "name": "sagemath"
  },
  "language_info": {
   "codemirror_mode": {
    "name": "ipython",
    "version": 3
   },
   "file_extension": ".py",
   "mimetype": "text/x-python",
   "name": "python",
   "nbconvert_exporter": "python",
   "pygments_lexer": "ipython3",
   "version": "3.7.10"
  }
 },
 "nbformat": 4,
 "nbformat_minor": 4
}
