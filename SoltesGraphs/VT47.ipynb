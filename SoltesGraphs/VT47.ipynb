{
 "cells": [
  {
   "cell_type": "code",
   "execution_count": null,
   "metadata": {
    "scrolled": true
   },
   "outputs": [],
   "source": [
    "In this document, we verify that the vertex-transitive graphs with order up to 47 and degree at least 3 have the property \n",
    "that deleting a vertex, decreases the total distance"
   ]
  },
  {
   "cell_type": "code",
   "execution_count": null,
   "metadata": {
    "scrolled": true
   },
   "outputs": [],
   "source": [
    "Hereby we only need to consider the graphs with diameter at least 4 => order is more than 10.\n",
    "[we first find them, and compute the minimum difference for the ones with the same diameter]"
   ]
  },
  {
   "cell_type": "code",
   "execution_count": null,
   "metadata": {},
   "outputs": [],
   "source": [
    "For those graphs, the difference W(G)-W(G\\v) is always at least 21."
   ]
  },
  {
   "cell_type": "code",
   "execution_count": null,
   "metadata": {},
   "outputs": [],
   "source": [
    "The verification was done in 3 rounds;\n",
    "graphs with odd order (and thus even degree) -> here we checked that the diameter was always bounded by 12 \n",
    "graphs with even order n \\le 38\n",
    "graphs with even order between 40 and 46\n",
    "We also counted and see that there are not that many graphs with diameter above 3 (around 17k)"
   ]
  },
  {
   "cell_type": "code",
   "execution_count": null,
   "metadata": {},
   "outputs": [],
   "source": []
  },
  {
   "cell_type": "code",
   "execution_count": null,
   "metadata": {},
   "outputs": [],
   "source": []
  },
  {
   "cell_type": "code",
   "execution_count": null,
   "metadata": {},
   "outputs": [],
   "source": []
  },
  {
   "cell_type": "code",
   "execution_count": null,
   "metadata": {},
   "outputs": [],
   "source": []
  },
  {
   "cell_type": "code",
   "execution_count": null,
   "metadata": {},
   "outputs": [],
   "source": []
  },
  {
   "cell_type": "code",
   "execution_count": null,
   "metadata": {},
   "outputs": [],
   "source": []
  },
  {
   "cell_type": "code",
   "execution_count": null,
   "metadata": {},
   "outputs": [],
   "source": []
  },
  {
   "cell_type": "code",
   "execution_count": null,
   "metadata": {},
   "outputs": [],
   "source": []
  },
  {
   "cell_type": "code",
   "execution_count": 127,
   "metadata": {},
   "outputs": [
    {
     "name": "stdout",
     "output_type": "stream",
     "text": [
      "11\n",
      "13\n",
      "15\n",
      "17\n",
      "19\n",
      "21\n",
      "23\n",
      "25\n",
      "27\n",
      "29\n",
      "31\n",
      "33\n",
      "35\n",
      "37\n",
      "39\n",
      "41\n",
      "43\n",
      "45\n",
      "47\n"
     ]
    }
   ],
   "source": [
    "d={}\n",
    "for k in range(19):\n",
    "    d[k]=[];\n",
    "for n in range(11,48,2):\n",
    "    print(n)\n",
    "    for i in range(4,min(9,floor(3*(n-1)/8)),2):\n",
    "        file = open(\"C:/Users/stijncambie/Downloads\"+\"/alltrans\"+str(n)+\"_k=0\"+str(i), \"r\")\n",
    "        content = file.read()\n",
    "        file.close()\n",
    "        x[i]=content.split(\"\\n\") \n",
    "        G=[]\n",
    "        for s in x[i][:-1]:\n",
    "            g=Graph(s).copy();\n",
    "            if g.is_connected():\n",
    "                G.append(g);\n",
    "        for g in G:\n",
    "            d[g.diameter()].append(g)\n",
    "    for i in range(10,floor(3*(n-1)/8),2):\n",
    "        file = open(\"C:/Users/stijncambie/Downloads\"+\"/alltrans\"+str(n)+\"_k=\"+str(i), \"r\")\n",
    "        content = file.read()\n",
    "        file.close()\n",
    "        x[i]=content.split(\"\\n\") \n",
    "        G=[]\n",
    "        for s in x[i][:-1]:\n",
    "            g=Graph(s).copy();\n",
    "            if g.is_connected():\n",
    "                G.append(g);\n",
    "        for g in G:\n",
    "            d[g.diameter()].append(g)"
   ]
  },
  {
   "cell_type": "code",
   "execution_count": 128,
   "metadata": {},
   "outputs": [
    {
     "data": {
      "text/plain": [
       "37926"
      ]
     },
     "execution_count": 128,
     "metadata": {},
     "output_type": "execute_result"
    }
   ],
   "source": [
    "len(d[3])"
   ]
  },
  {
   "cell_type": "code",
   "execution_count": 131,
   "metadata": {},
   "outputs": [
    {
     "name": "stdout",
     "output_type": "stream",
     "text": [
      "29\n",
      "44\n",
      "62\n",
      "83\n",
      "107\n",
      "134\n",
      "164\n",
      "197\n",
      "233\n"
     ]
    },
    {
     "ename": "ValueError",
     "evalue": "min() arg is an empty sequence",
     "output_type": "error",
     "traceback": [
      "\u001b[0;31m---------------------------------------------------------------------------\u001b[0m",
      "\u001b[0;31mValueError\u001b[0m                                Traceback (most recent call last)",
      "\u001b[0;32m<ipython-input-131-950e44453d7d>\u001b[0m in \u001b[0;36m<module>\u001b[0;34m\u001b[0m\n\u001b[1;32m      6\u001b[0m         \u001b[0mW2\u001b[0m\u001b[0;34m=\u001b[0m\u001b[0mg\u001b[0m\u001b[0;34m.\u001b[0m\u001b[0mwiener_index\u001b[0m\u001b[0;34m(\u001b[0m\u001b[0;34m)\u001b[0m\u001b[0;34m;\u001b[0m\u001b[0;34m\u001b[0m\u001b[0;34m\u001b[0m\u001b[0m\n\u001b[1;32m      7\u001b[0m         \u001b[0mdiff\u001b[0m\u001b[0;34m.\u001b[0m\u001b[0mappend\u001b[0m\u001b[0;34m(\u001b[0m\u001b[0mW\u001b[0m\u001b[0;34m-\u001b[0m\u001b[0mW2\u001b[0m\u001b[0;34m)\u001b[0m\u001b[0;34m\u001b[0m\u001b[0;34m\u001b[0m\u001b[0m\n\u001b[0;32m----> 8\u001b[0;31m     \u001b[0mprint\u001b[0m\u001b[0;34m(\u001b[0m\u001b[0mmin\u001b[0m\u001b[0;34m(\u001b[0m\u001b[0mdiff\u001b[0m\u001b[0;34m)\u001b[0m\u001b[0;34m)\u001b[0m\u001b[0;34m\u001b[0m\u001b[0;34m\u001b[0m\u001b[0m\n\u001b[0m",
      "\u001b[0;31mValueError\u001b[0m: min() arg is an empty sequence"
     ]
    }
   ],
   "source": [
    "for k in range(4,19):\n",
    "    diff=[]\n",
    "    for g in d[k]:\n",
    "        W=g.wiener_index()\n",
    "        g.delete_vertex(0);\n",
    "        W2=g.wiener_index();\n",
    "        diff.append(W-W2)\n",
    "    print(min(diff))"
   ]
  },
  {
   "cell_type": "code",
   "execution_count": 133,
   "metadata": {},
   "outputs": [
    {
     "name": "stdout",
     "output_type": "stream",
     "text": [
      "979\n",
      "143\n",
      "50\n",
      "21\n",
      "11\n",
      "2\n",
      "2\n",
      "2\n",
      "1\n",
      "0\n",
      "0\n",
      "0\n",
      "0\n",
      "0\n",
      "0\n"
     ]
    }
   ],
   "source": [
    "for k in range(4,19):\n",
    "    print(len(d[k]))"
   ]
  },
  {
   "cell_type": "code",
   "execution_count": 134,
   "metadata": {},
   "outputs": [
    {
     "name": "stdout",
     "output_type": "stream",
     "text": [
      "12\n",
      "14\n",
      "16\n",
      "18\n",
      "20\n",
      "22\n",
      "24\n",
      "26\n",
      "28\n",
      "30\n",
      "32\n",
      "34\n",
      "36\n",
      "38\n"
     ]
    }
   ],
   "source": [
    "d={}\n",
    "for k in range(19):\n",
    "    d[k]=[];\n",
    "for n in range(12,40,2):\n",
    "    for i in range(3,min(9,floor(3*(n-1)/8))):\n",
    "        file = open(\"C:/Users/stijncambie/Downloads\"+\"/alltrans\"+str(n)+\"_k=0\"+str(i), \"r\")\n",
    "        content = file.read()\n",
    "        file.close()\n",
    "        x[i]=content.split(\"\\n\") \n",
    "        G=[]\n",
    "        for s in x[i][:-1]:\n",
    "            g=Graph(s).copy();\n",
    "            if g.is_connected():\n",
    "                G.append(g);\n",
    "        for g in G:\n",
    "            d[g.diameter()].append(g)\n",
    "    for i in range(10,floor(3*(n-1)/8)):\n",
    "        file = open(\"C:/Users/stijncambie/Downloads\"+\"/alltrans\"+str(n)+\"_k=\"+str(i), \"r\")\n",
    "        content = file.read()\n",
    "        file.close()\n",
    "        x[i]=content.split(\"\\n\") \n",
    "        G=[]\n",
    "        for s in x[i][:-1]:\n",
    "            g=Graph(s).copy();\n",
    "            if g.is_connected():\n",
    "                G.append(g);\n",
    "        for g in G:\n",
    "            d[g.diameter()].append(g)\n",
    "    print(n)"
   ]
  },
  {
   "cell_type": "code",
   "execution_count": 135,
   "metadata": {},
   "outputs": [
    {
     "name": "stdout",
     "output_type": "stream",
     "text": [
      "3166\n",
      "322\n",
      "68\n",
      "23\n",
      "12\n",
      "12\n",
      "4\n",
      "0\n",
      "0\n",
      "0\n",
      "0\n",
      "0\n",
      "0\n",
      "0\n",
      "0\n"
     ]
    }
   ],
   "source": [
    "for k in range(4,19):\n",
    "    print(len(d[k]))"
   ]
  },
  {
   "cell_type": "code",
   "execution_count": 136,
   "metadata": {},
   "outputs": [
    {
     "name": "stdout",
     "output_type": "stream",
     "text": [
      "22\n",
      "33\n",
      "42\n",
      "64\n",
      "82\n",
      "102\n",
      "124\n"
     ]
    }
   ],
   "source": [
    "for k in range(4,19):\n",
    "    if len(d[k])>0:\n",
    "        diff=[]\n",
    "        for g in d[k]:\n",
    "            W=g.wiener_index()\n",
    "            g.delete_vertex(0);\n",
    "            W2=g.wiener_index();\n",
    "            diff.append(W-W2)\n",
    "        print(min(diff))"
   ]
  },
  {
   "cell_type": "code",
   "execution_count": 138,
   "metadata": {},
   "outputs": [
    {
     "name": "stdout",
     "output_type": "stream",
     "text": [
      "40\n",
      "42\n",
      "44\n",
      "46\n"
     ]
    }
   ],
   "source": [
    "d={}\n",
    "for k in range(4,19):\n",
    "    d[k]=[];\n",
    "for n in range(40,48,2):\n",
    "    for i in range(3,min(9,floor(3*(n-1)/8))):\n",
    "        file = open(\"C:/Users/stijncambie/Downloads\"+\"/alltrans\"+str(n)+\"_k=0\"+str(i), \"r\")\n",
    "        content = file.read()\n",
    "        file.close()\n",
    "        x[i]=content.split(\"\\n\") \n",
    "        G=[]\n",
    "        for s in x[i][:-1]:\n",
    "            g=Graph(s).copy();\n",
    "            if g.is_connected():\n",
    "                G.append(g);\n",
    "        for g in G:\n",
    "            a=g.diameter();\n",
    "            if a>3:\n",
    "                d[a].append(g)\n",
    "    for i in range(10,floor(3*(n-1)/8)):\n",
    "        file = open(\"C:/Users/stijncambie/Downloads\"+\"/alltrans\"+str(n)+\"_k=\"+str(i), \"r\")\n",
    "        content = file.read()\n",
    "        file.close()\n",
    "        x[i]=content.split(\"\\n\") \n",
    "        G=[]\n",
    "        for s in x[i][:-1]:\n",
    "            g=Graph(s).copy();\n",
    "            if g.is_connected():\n",
    "                G.append(g);\n",
    "        for g in G:\n",
    "            a=g.diameter();\n",
    "            if a>3:\n",
    "                d[a].append(g)\n",
    "    print(n)"
   ]
  },
  {
   "cell_type": "code",
   "execution_count": 139,
   "metadata": {},
   "outputs": [
    {
     "name": "stdout",
     "output_type": "stream",
     "text": [
      "10849\n",
      "867\n",
      "185\n",
      "42\n",
      "14\n",
      "2\n",
      "8\n",
      "12\n",
      "4\n",
      "0\n",
      "0\n",
      "0\n",
      "0\n",
      "0\n",
      "0\n"
     ]
    }
   ],
   "source": [
    "for k in range(4,19):\n",
    "    print(len(d[k]))"
   ]
  },
  {
   "cell_type": "code",
   "execution_count": 140,
   "metadata": {},
   "outputs": [
    {
     "name": "stdout",
     "output_type": "stream",
     "text": [
      "69\n",
      "72\n",
      "21\n",
      "92\n",
      "120\n",
      "153\n",
      "138\n",
      "148\n",
      "174\n"
     ]
    }
   ],
   "source": [
    "for k in range(4,19):\n",
    "    if len(d[k])>0:\n",
    "        diff=[]\n",
    "        for g in d[k]:\n",
    "            W=g.wiener_index()\n",
    "            g.delete_vertex(0);\n",
    "            W2=g.wiener_index();\n",
    "            diff.append(W-W2)\n",
    "        print(min(diff))"
   ]
  },
  {
   "cell_type": "code",
   "execution_count": null,
   "metadata": {},
   "outputs": [],
   "source": []
  }
 ],
 "metadata": {
  "kernelspec": {
   "display_name": "SageMath 9.3",
   "language": "sage",
   "name": "sagemath"
  },
  "language_info": {
   "codemirror_mode": {
    "name": "ipython",
    "version": 3
   },
   "file_extension": ".py",
   "mimetype": "text/x-python",
   "name": "python",
   "nbconvert_exporter": "python",
   "pygments_lexer": "ipython3",
   "version": "3.7.10"
  }
 },
 "nbformat": 4,
 "nbformat_minor": 4
}
