{
 "cells": [
  {
   "cell_type": "code",
   "execution_count": 13,
   "metadata": {},
   "outputs": [],
   "source": [
    "#Define functions that \n",
    "# check if the vertex 0 is a Soltes vertex in the hypergraph H of order n\n",
    "# check if a hypergraph H of order n is a Soltes hypergraph\n",
    "# check a list of hypergraphs of order n contains Soltes hypergraphs, output them and prints \"done\" once finished\n",
    "# compute the maximum Wiener index among the hypergraphs in a list\n",
    "\n",
    "def Soltis0(H,n):\n",
    "    S=set()\n",
    "    for j in H:\n",
    "        for (u,v) in Combinations(j,2):\n",
    "            S.add((u,v))\n",
    "    G = Graph();\n",
    "    for (u,v) in S:\n",
    "        G.add_edge((u,v));\n",
    "    W=G.wiener_index();\n",
    "       \n",
    "    Ok=True;\n",
    "    i=0;\n",
    "    S=set();\n",
    "    for j in H:\n",
    "        if i not in j:\n",
    "            for (u,v) in Combinations(j,2):\n",
    "                S.add((u,v));\n",
    "    G = Graph();\n",
    "    for (u,v) in S:\n",
    "        G.add_edge((u,v));\n",
    "    if G.order()!=n-1:\n",
    "        Ok=False;\n",
    "    else:\n",
    "        if W!=G.wiener_index():\n",
    "            Ok=False;\n",
    "    return Ok\n",
    "\n",
    "def Soltis(H,n):\n",
    "    S=set()\n",
    "    for j in H:\n",
    "        for (u,v) in Combinations(j,2):\n",
    "            S.add((u,v))\n",
    "    G = Graph();\n",
    "    for (u,v) in S:\n",
    "        G.add_edge((u,v));\n",
    "    W=G.wiener_index();\n",
    "       \n",
    "    Ok=True;\n",
    "    for i in range(n):\n",
    "        S=set();\n",
    "        for j in H:\n",
    "            if i not in j:\n",
    "                for (u,v) in Combinations(j,2):\n",
    "                    S.add((u,v));\n",
    "        G = Graph();\n",
    "        for (u,v) in S:\n",
    "            G.add_edge((u,v));\n",
    "        if G.order()!=n-1:\n",
    "            Ok=False;\n",
    "            break\n",
    "        else:\n",
    "            if W!=G.wiener_index():\n",
    "                Ok=False;\n",
    "                break\n",
    "    return Ok\n",
    "\n",
    "#to check a list of hypergraphs efficiently, we first check the Soltes property for vertex 0 and then for the remaining ones.\n",
    "\n",
    "\n",
    "def SoltisListCheck(li,n):\n",
    "    hyperok=[];\n",
    "    for H in li:\n",
    "        if Soltis0(H,n):\n",
    "            hyperok.append(H)\n",
    "    for H in hyperok:\n",
    "        if Soltis(H,n):\n",
    "            print(H)\n",
    "    print(\"done\")\n",
    "    \n",
    "def MaxW(li):\n",
    "    maxW=0;\n",
    "    for H in li:\n",
    "        S=set()\n",
    "        for j in H:\n",
    "            for (u,v) in Combinations(j,2):\n",
    "                S.add((u,v))\n",
    "        G = Graph();\n",
    "        for (u,v) in S:\n",
    "            G.add_edge((u,v));\n",
    "        W=G.wiener_index();\n",
    "        if W>maxW:\n",
    "            maxW=W\n",
    "    return(maxW)\n",
    "\n",
    "\n",
    "\n",
    "\n"
   ]
  },
  {
   "cell_type": "code",
   "execution_count": 17,
   "metadata": {},
   "outputs": [
    {
     "name": "stdout",
     "output_type": "stream",
     "text": [
      "52018\n",
      "done\n"
     ]
    }
   ],
   "source": [
    "#We verify that there are no Soltes hypergraphs with few hyperedges, for uniformity (u) 3 and n=7, u=4 and n=8 and u=5, n=9\n",
    "hyper=[];\n",
    "n=7;\n",
    "u=3;\n",
    "for k in range(5,11):\n",
    "    for g in list(hypergraphs.nauty(number_of_sets=k,number_of_vertices=n, multiple_sets=False, vertex_min_degree=2, uniform=u, connected=True)):\n",
    "        hyper.append(g)\n",
    "print(len(hyper))\n",
    "SoltisListCheck(hyper,n)\n"
   ]
  },
  {
   "cell_type": "code",
   "execution_count": 18,
   "metadata": {},
   "outputs": [
    {
     "name": "stdout",
     "output_type": "stream",
     "text": [
      "23447\n",
      "done\n"
     ]
    }
   ],
   "source": [
    "#We verify that there are no Soltes hypergraphs with few hyperedges, for uniformity (u) 3 and n=7, u=4 and n=8 and u=5, n=9\n",
    "hyper=[];\n",
    "n=8;\n",
    "u=4;\n",
    "for k in range(5,8):\n",
    "    for g in list(hypergraphs.nauty(number_of_sets=k,number_of_vertices=n, multiple_sets=False, vertex_min_degree=2, uniform=u, connected=True)):\n",
    "        hyper.append(g)\n",
    "print(len(hyper)) \n",
    "\n",
    "SoltisListCheck(hyper,n)"
   ]
  },
  {
   "cell_type": "code",
   "execution_count": 19,
   "metadata": {},
   "outputs": [
    {
     "name": "stdout",
     "output_type": "stream",
     "text": [
      "11018\n",
      "done\n"
     ]
    }
   ],
   "source": [
    "#We verify that there are no Soltes hypergraphs with few hyperedges, for uniformity (u) 3 and n=7, u=4 and n=8 and u=5, n=9\n",
    "hyper=[];\n",
    "n=9;\n",
    "u=5;\n",
    "for k in range(5,7):\n",
    "    for g in list(hypergraphs.nauty(number_of_sets=k,number_of_vertices=n, multiple_sets=False, vertex_min_degree=2, uniform=u, connected=True)):\n",
    "        hyper.append(g)\n",
    "print(len(hyper)) \n",
    "\n",
    "SoltisListCheck(hyper,n)"
   ]
  },
  {
   "cell_type": "code",
   "execution_count": 16,
   "metadata": {},
   "outputs": [
    {
     "name": "stdout",
     "output_type": "stream",
     "text": [
      "19\n",
      "27\n",
      "34\n"
     ]
    }
   ],
   "source": [
    "for (n,u,m) in [(7,3,7),(8,4,4),(9,5,4)]:\n",
    "    print(MaxW(list(hypergraphs.nauty(number_of_sets=m, number_of_vertices=n-1, multiple_sets=False, uniform=u, connected=True))))"
   ]
  },
  {
   "cell_type": "code",
   "execution_count": null,
   "metadata": {},
   "outputs": [],
   "source": []
  }
 ],
 "metadata": {
  "kernelspec": {
   "display_name": "SageMath 9.3",
   "language": "sage",
   "name": "sagemath"
  },
  "language_info": {
   "codemirror_mode": {
    "name": "ipython",
    "version": 3
   },
   "file_extension": ".py",
   "mimetype": "text/x-python",
   "name": "python",
   "nbconvert_exporter": "python",
   "pygments_lexer": "ipython3",
   "version": "3.7.10"
  }
 },
 "nbformat": 4,
 "nbformat_minor": 4
}
