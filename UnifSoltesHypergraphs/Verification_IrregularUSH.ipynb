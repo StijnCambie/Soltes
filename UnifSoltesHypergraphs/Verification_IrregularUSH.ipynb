{
 "cells": [
  {
   "cell_type": "code",
   "execution_count": 66,
   "metadata": {},
   "outputs": [
    {
     "data": {
      "text/plain": [
       "[[0, 1, 2, 3, 4, 5, 7, 16, 18],\n",
       " [2, 3, 4, 5, 6, 7, 9, 18, 20],\n",
       " [4, 5, 6, 7, 8, 9, 11, 20, 22],\n",
       " [6, 7, 8, 9, 10, 11, 13, 22, 24],\n",
       " [8, 9, 10, 11, 12, 13, 15, 24, 26],\n",
       " [10, 11, 12, 13, 14, 15, 17, 26, 28],\n",
       " [12, 13, 14, 15, 16, 17, 19, 28, 30],\n",
       " [14, 15, 16, 17, 18, 19, 21, 30, 32],\n",
       " [16, 17, 18, 19, 20, 21, 23, 32, 34],\n",
       " [18, 19, 20, 21, 22, 23, 25, 34, 36],\n",
       " [20, 21, 22, 23, 24, 25, 27, 36, 38],\n",
       " [22, 23, 24, 25, 26, 27, 29, 38, 40],\n",
       " [24, 25, 26, 27, 28, 29, 31, 40, 42],\n",
       " [26, 27, 28, 29, 30, 31, 33, 42, 44],\n",
       " [28, 29, 30, 31, 32, 33, 35, 44, 46],\n",
       " [30, 31, 32, 33, 34, 35, 37, 46, 48],\n",
       " [32, 33, 34, 35, 36, 37, 39, 48, 50],\n",
       " [34, 35, 36, 37, 38, 39, 41, 50, 52],\n",
       " [36, 37, 38, 39, 40, 41, 43, 52, 0],\n",
       " [38, 39, 40, 41, 42, 43, 45, 0, 2],\n",
       " [40, 41, 42, 43, 44, 45, 47, 2, 4],\n",
       " [42, 43, 44, 45, 46, 47, 49, 4, 6],\n",
       " [44, 45, 46, 47, 48, 49, 51, 6, 8],\n",
       " [46, 47, 48, 49, 50, 51, 53, 8, 10],\n",
       " [48, 49, 50, 51, 52, 53, 1, 10, 12],\n",
       " [50, 51, 52, 53, 0, 1, 3, 12, 14],\n",
       " [52, 53, 0, 1, 2, 3, 5, 14, 16]]"
      ]
     },
     "execution_count": 66,
     "metadata": {},
     "output_type": "execute_result"
    }
   ],
   "source": [
    "#We construct the hypergraph\n",
    "def Constr3(n,k,sp1,sp2,sp3):\n",
    "    H=[]\n",
    "    for i in range(0,n,2):\n",
    "        e=[]\n",
    "        for j in range(i,i+k-3):\n",
    "            e.append(j%n)\n",
    "        e.append((j+sp1)%n)\n",
    "        e.append((j+sp1+sp2)%n)\n",
    "        e.append((j+sp1+sp2+sp3)%n)\n",
    "        H.append(e)\n",
    "    return H\n",
    "H=Constr3(54, 9, 2, 9, 2)\n",
    "H"
   ]
  },
  {
   "cell_type": "code",
   "execution_count": 67,
   "metadata": {},
   "outputs": [],
   "source": [
    "#we compute the edgesets of the underlying graphs of H, H\\1 and H\\2  (compute the pairs of adjacent vertices)\n",
    "S=set()\n",
    "S1=set()\n",
    "S2=set()\n",
    "for j in H:\n",
    "    for (u,v) in Combinations(j,2):\n",
    "        S.add((u,v))\n",
    "    if 1 not in j:\n",
    "        for (u,v) in Combinations(j,2):\n",
    "            S1.add((u,v));\n",
    "    if 2 not in j:\n",
    "        for (u,v) in Combinations(j,2):\n",
    "            S2.add((u,v));"
   ]
  },
  {
   "cell_type": "code",
   "execution_count": 68,
   "metadata": {},
   "outputs": [],
   "source": [
    "#for each of them, we compute the total distance, order and size of undelying graph (number of vertices at distance 1, diameter)"
   ]
  },
  {
   "cell_type": "code",
   "execution_count": 69,
   "metadata": {},
   "outputs": [
    {
     "data": {
      "text/plain": [
       "(2349, 54, 540, 3)"
      ]
     },
     "execution_count": 69,
     "metadata": {},
     "output_type": "execute_result"
    }
   ],
   "source": [
    "G = Graph();\n",
    "for (u,v) in S:\n",
    "    G.add_edge((u,v));\n",
    "(G.wiener_index(),G.order(),G.size(),G.diameter())"
   ]
  },
  {
   "cell_type": "code",
   "execution_count": 70,
   "metadata": {},
   "outputs": [
    {
     "data": {
      "text/plain": [
       "(2349, 53, 478, 3)"
      ]
     },
     "execution_count": 70,
     "metadata": {},
     "output_type": "execute_result"
    }
   ],
   "source": [
    "G = Graph();\n",
    "for (u,v) in S1:\n",
    "    G.add_edge((u,v));\n",
    "G.wiener_index()\n",
    "(G.wiener_index(),G.order(),G.size(),G.diameter())"
   ]
  },
  {
   "cell_type": "code",
   "execution_count": 71,
   "metadata": {},
   "outputs": [
    {
     "data": {
      "text/plain": [
       "(2349, 53, 471, 3)"
      ]
     },
     "execution_count": 71,
     "metadata": {},
     "output_type": "execute_result"
    }
   ],
   "source": [
    "G = Graph();\n",
    "for (u,v) in S2:\n",
    "    G.add_edge((u,v));\n",
    "G.wiener_index()\n",
    "(G.wiener_index(),G.order(),G.size(),G.diameter())"
   ]
  },
  {
   "cell_type": "code",
   "execution_count": null,
   "metadata": {},
   "outputs": [],
   "source": [
    "\n"
   ]
  },
  {
   "cell_type": "code",
   "execution_count": 23,
   "metadata": {},
   "outputs": [],
   "source": []
  },
  {
   "cell_type": "code",
   "execution_count": null,
   "metadata": {},
   "outputs": [],
   "source": []
  }
 ],
 "metadata": {
  "kernelspec": {
   "display_name": "SageMath 9.3",
   "language": "sage",
   "name": "sagemath"
  },
  "language_info": {
   "codemirror_mode": {
    "name": "ipython",
    "version": 3
   },
   "file_extension": ".py",
   "mimetype": "text/x-python",
   "name": "python",
   "nbconvert_exporter": "python",
   "pygments_lexer": "ipython3",
   "version": "3.7.10"
  }
 },
 "nbformat": 4,
 "nbformat_minor": 4
}
