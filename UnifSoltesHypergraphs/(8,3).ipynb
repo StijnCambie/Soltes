{
 "cells": [
  {
   "cell_type": "code",
   "execution_count": 3,
   "metadata": {},
   "outputs": [
    {
     "data": {
      "text/plain": [
       "207591"
      ]
     },
     "execution_count": 3,
     "metadata": {},
     "output_type": "execute_result"
    }
   ],
   "source": [
    "#Verification that no 3-uniform Soltes hypergraph exists for n=8 for which H-v has size bounded by 7 \n",
    "\n",
    "hyper=[];\n",
    "n=8;\n",
    "u=3;\n",
    "for k in range(12):\n",
    "    delta=max(2,k-7);\n",
    "    for g in list(hypergraphs.nauty(number_of_sets=k,number_of_vertices=n, vertex_min_degree=delta, multiple_sets=False, uniform=u, connected=True)):\n",
    "        hyper.append(g)\n",
    "len(hyper) "
   ]
  },
  {
   "cell_type": "code",
   "execution_count": 4,
   "metadata": {},
   "outputs": [],
   "source": [
    "#this function verifies if the vertex O of a hypergraph H of order n is a Soltes vertex\n",
    "\n",
    "def Soltis0(H,n):\n",
    "    S=set()\n",
    "    for j in H:\n",
    "        for (u,v) in Combinations(j,2):\n",
    "            S.add((u,v))\n",
    "    G = Graph();\n",
    "    for (u,v) in S:\n",
    "        G.add_edge((u,v));\n",
    "    W=G.wiener_index();\n",
    "       \n",
    "    Ok=True;\n",
    "    i=0;\n",
    "    S=set();\n",
    "    for j in H:\n",
    "        if i not in j:\n",
    "            for (u,v) in Combinations(j,2):\n",
    "                S.add((u,v));\n",
    "    G = Graph();\n",
    "    for (u,v) in S:\n",
    "        G.add_edge((u,v));\n",
    "    if G.order()!=n-1:\n",
    "        Ok=False;\n",
    "    else:\n",
    "        if W!=G.wiener_index():\n",
    "            Ok=False;\n",
    "    return Ok\n",
    "            "
   ]
  },
  {
   "cell_type": "code",
   "execution_count": 6,
   "metadata": {},
   "outputs": [],
   "source": [
    "#We check that there are 4612 out of 207591 hypergraphs which had to be considered, for which O is a Soltes vertex\n",
    "\n",
    "hyperok=[]\n",
    "for H in hyper:\n",
    "    if Soltis0(H,8):\n",
    "        hyperok.append(H)"
   ]
  },
  {
   "cell_type": "code",
   "execution_count": 7,
   "metadata": {},
   "outputs": [
    {
     "data": {
      "text/plain": [
       "4612"
      ]
     },
     "execution_count": 7,
     "metadata": {},
     "output_type": "execute_result"
    }
   ],
   "source": [
    "len(hyperok)"
   ]
  },
  {
   "cell_type": "code",
   "execution_count": 10,
   "metadata": {},
   "outputs": [],
   "source": [
    "#function that verifies if the hypergraph H of order n is a Soltes hypergraph\n",
    "\n",
    "def Soltis(H,n):\n",
    "    S=set()\n",
    "    for j in H:\n",
    "        for (u,v) in Combinations(j,2):\n",
    "            S.add((u,v))\n",
    "    G = Graph();\n",
    "    for (u,v) in S:\n",
    "        G.add_edge((u,v));\n",
    "    W=G.wiener_index();\n",
    "       \n",
    "    Ok=True;\n",
    "    for i in range(n):\n",
    "        S=set();\n",
    "        for j in H:\n",
    "            if i not in j:\n",
    "                for (u,v) in Combinations(j,2):\n",
    "                    S.add((u,v));\n",
    "        G = Graph();\n",
    "        for (u,v) in S:\n",
    "            G.add_edge((u,v));\n",
    "        if G.order()!=n-1:\n",
    "            Ok=False;\n",
    "            break\n",
    "        else:\n",
    "            if W!=G.wiener_index():\n",
    "                Ok=False;\n",
    "                break\n",
    "    return Ok"
   ]
  },
  {
   "cell_type": "code",
   "execution_count": 11,
   "metadata": {},
   "outputs": [],
   "source": [
    "#output all Soltes hypergraphs (none => concluded)\n",
    "\n",
    "for H in hyperok:\n",
    "    if Soltis(H,8):\n",
    "        print(H)"
   ]
  },
  {
   "cell_type": "code",
   "execution_count": null,
   "metadata": {},
   "outputs": [],
   "source": []
  }
 ],
 "metadata": {
  "kernelspec": {
   "display_name": "SageMath 9.3",
   "language": "sage",
   "name": "sagemath"
  },
  "language_info": {
   "codemirror_mode": {
    "name": "ipython",
    "version": 3
   },
   "file_extension": ".py",
   "mimetype": "text/x-python",
   "name": "python",
   "nbconvert_exporter": "python",
   "pygments_lexer": "ipython3",
   "version": "3.7.10"
  }
 },
 "nbformat": 4,
 "nbformat_minor": 4
}
