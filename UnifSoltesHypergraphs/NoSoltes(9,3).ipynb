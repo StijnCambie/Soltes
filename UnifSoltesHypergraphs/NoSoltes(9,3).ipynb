{
 "cells": [
  {
   "cell_type": "code",
   "execution_count": 1,
   "metadata": {},
   "outputs": [
    {
     "data": {
      "text/plain": [
       "{8: 0,\n",
       " 9: 72,\n",
       " 10: 67,\n",
       " 11: 62,\n",
       " 12: 58,\n",
       " 13: 54,\n",
       " 14: 50,\n",
       " 15: 47,\n",
       " 16: 44,\n",
       " 17: 42,\n",
       " 18: 40,\n",
       " 19: 39,\n",
       " 20: 37,\n",
       " 21: 36,\n",
       " 22: 34,\n",
       " 23: 33,\n",
       " 24: 32,\n",
       " 25: 31,\n",
       " 26: 30,\n",
       " 27: 29,\n",
       " 28: 28}"
      ]
     },
     "execution_count": 1,
     "metadata": {},
     "output_type": "execute_result"
    }
   ],
   "source": [
    "#Computes the maximum Wiener index of a graph on 8 vertices with minimum degree 2 containing a triangle\n",
    "n=8;\n",
    "L=[]\n",
    "for g in graphs.nauty_geng(' ' +str(n)+' -c -d2'):\n",
    "    L.append(g)\n",
    "\n",
    "MaxW={}\n",
    "for m in range(8,29):\n",
    "    MaxW[m]=0\n",
    "    \n",
    "for g in L:\n",
    "    if g.clique_number()>=3:\n",
    "        m=g.size()\n",
    "        W=g.wiener_index()\n",
    "        MaxW[m]=max(MaxW[m],W)\n",
    "    \n",
    "MaxW"
   ]
  },
  {
   "cell_type": "code",
   "execution_count": 3,
   "metadata": {},
   "outputs": [
    {
     "name": "stdout",
     "output_type": "stream",
     "text": [
      "17\n"
     ]
    }
   ],
   "source": [
    "#Check that no 3-unif Soltes hypergraph H of order 9 and Wiener index \\le 52 exists (size of underlying graph bounded by 36-16)\n",
    "for r in range(0,18):\n",
    "    if MaxW[24-floor(2/3*r)]>=36+r:\n",
    "        print(r)"
   ]
  },
  {
   "cell_type": "code",
   "execution_count": 18,
   "metadata": {},
   "outputs": [],
   "source": [
    "def W(H):\n",
    "    S=set()\n",
    "    for j in H:\n",
    "        for (u,v) in Combinations(j,2):\n",
    "            S.add((u,v))\n",
    "    G = Graph();\n",
    "    for (u,v) in S:\n",
    "        G.add_edge((u,v));\n",
    "    W=G.wiener_index();\n",
    "    return (W,G)"
   ]
  },
  {
   "cell_type": "code",
   "execution_count": 19,
   "metadata": {},
   "outputs": [],
   "source": [
    "#generate possible sparse hypergraphs H\\v and remember the ones with Wiener index at least 53\n",
    "LW=[]\n",
    "(n,u)=(9,3)\n",
    "for m in range(4,8):\n",
    "    for H in hypergraphs.nauty(number_of_sets=m, number_of_vertices=n-1, multiple_sets=False, uniform=u, connected=True):\n",
    "        (w,g)=W(H)\n",
    "        if w>=53:\n",
    "            LW.append((w,m,g,H))"
   ]
  },
  {
   "cell_type": "code",
   "execution_count": null,
   "metadata": {},
   "outputs": [],
   "source": []
  },
  {
   "cell_type": "code",
   "execution_count": 22,
   "metadata": {},
   "outputs": [
    {
     "name": "stdout",
     "output_type": "stream",
     "text": [
      "(57, 4, 11, 4)\n",
      "(54, 5, 12, 5)\n",
      "(54, 5, 12, 5)\n",
      "(53, 5, 13, 7)\n",
      "(53, 6, 13, 7)\n",
      "(53, 6, 13, 7)\n",
      "(53, 7, 13, 7)\n"
     ]
    }
   ],
   "source": [
    "#by counting the number of triangles in the underlying graph, we notice that no H\\v can have size at least 8,\n",
    "#and so we have only 7 candidates for H\\v.\n",
    "for (w,m,g,H) in LW:\n",
    "    s=g.size()\n",
    "    r=w-36\n",
    "    if s>=24-floor(2/3*r):\n",
    "        print((w,m,s,g.triangles_count()))"
   ]
  },
  {
   "cell_type": "code",
   "execution_count": 27,
   "metadata": {},
   "outputs": [],
   "source": [
    "#Generate cndidate SH for W==57 or W==53; hereby the degrees are chosen such that H\\v has the correct order to be a candidate\n",
    "#the case W==54 was excluded, since H\\v being of size 5 for every v would imply that H is d-regular with 2/3d=5.\n",
    "Cand=[]\n",
    "(n,u)=(9,3)\n",
    "m=6;\n",
    "L57=list(hypergraphs.nauty(number_of_sets=m, number_of_vertices=n, multiple_sets=False, uniform=u,vertex_min_degree=2, vertex_max_degree=2,connected=True))\n",
    "for H in L57:\n",
    "    if W(H)[0]==57:\n",
    "        Cand.append(H)\n",
    "for m in range(8,11):\n",
    "    L53=list(hypergraphs.nauty(number_of_sets=m, number_of_vertices=n, multiple_sets=False, uniform=u,vertex_min_degree=m-7, vertex_max_degree=m-5,connected=True))\n",
    "    for H in L53:\n",
    "        if W(H)[0]==53:\n",
    "            Cand.append(H)   "
   ]
  },
  {
   "cell_type": "code",
   "execution_count": 28,
   "metadata": {},
   "outputs": [
    {
     "data": {
      "text/plain": [
       "4857"
      ]
     },
     "execution_count": 28,
     "metadata": {},
     "output_type": "execute_result"
    }
   ],
   "source": [
    "len(Cand)"
   ]
  },
  {
   "cell_type": "code",
   "execution_count": 29,
   "metadata": {},
   "outputs": [],
   "source": [
    "#function that checks if a hypergraph is a Soltes hypergraph by checking the property over all vertices\n",
    "def Soltes(H,n):\n",
    "    S=set()\n",
    "    for j in H:\n",
    "        for (u,v) in Combinations(j,2):\n",
    "            S.add((u,v))\n",
    "    G = Graph();\n",
    "    for (u,v) in S:\n",
    "        G.add_edge((u,v));\n",
    "    W=G.wiener_index();\n",
    "       \n",
    "    Ok=True;\n",
    "    for i in range(n):\n",
    "        S=set();\n",
    "        for j in H:\n",
    "            if i not in j:\n",
    "                for (u,v) in Combinations(j,2):\n",
    "                    S.add((u,v));\n",
    "        G = Graph();\n",
    "        for (u,v) in S:\n",
    "            G.add_edge((u,v));\n",
    "        if G.order()!=n-1:\n",
    "            Ok=False;\n",
    "            break\n",
    "        else:\n",
    "            if W!=G.wiener_index():\n",
    "                Ok=False;\n",
    "                break\n",
    "    return Ok"
   ]
  },
  {
   "cell_type": "code",
   "execution_count": 30,
   "metadata": {},
   "outputs": [
    {
     "data": {
      "text/plain": [
       "0"
      ]
     },
     "execution_count": 30,
     "metadata": {},
     "output_type": "execute_result"
    }
   ],
   "source": [
    "USH93=[]\n",
    "for H in Cand:\n",
    "    if Soltes(H,9):\n",
    "        USH93.append(H)\n",
    "len(USH93)"
   ]
  },
  {
   "cell_type": "code",
   "execution_count": null,
   "metadata": {},
   "outputs": [],
   "source": []
  }
 ],
 "metadata": {
  "kernelspec": {
   "display_name": "SageMath 9.3",
   "language": "sage",
   "name": "sagemath"
  },
  "language_info": {
   "codemirror_mode": {
    "name": "ipython",
    "version": 3
   },
   "file_extension": ".py",
   "mimetype": "text/x-python",
   "name": "python",
   "nbconvert_exporter": "python",
   "pygments_lexer": "ipython3",
   "version": "3.7.10"
  }
 },
 "nbformat": 4,
 "nbformat_minor": 4
}
